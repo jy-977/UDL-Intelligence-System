{
 "cells": [
  {
   "cell_type": "markdown",
   "metadata": {},
   "source": [
    "# Lost Luggage Distribution  Problem\n",
    "\n",
    "## Objective and Prerequisites\n",
    "\n",
    "This model is an example of a vehicle routing problem. A small company with six vans has a contract with a number of airlines to pick up lost or delayed baggage and deliver each piece of luggage to its owner. This problem is formulated as a binary optimization problem using the Gurobi Python API and solved with the Gurobi Optimizer.\n",
    "\n",
    "This model is example 27 from the fifth edition of Model Building in Mathematical Programming by H. Paul Williams on pages 287-289 and 343-344.\n",
    "\n",
    "This modeling example is at the advanced level, where we assume that you know Python and the Gurobi Python API and that you have advanced knowledge of building mathematical optimization models. Typically, the objective function and/or constraints of these examples are complex or require advanced features of the Gurobi Python API.\n",
    "\n",
    "**Download the Repository** <br /> \n",
    "You can download the repository containing this and other examples by clicking [here](https://github.com/Gurobi/modeling-examples/archive/master.zip). \n",
    "\n",
    "**Gurobi License** <br /> \n",
    "In order to run this Jupyter Notebook properly, you must have a Gurobi license. If you do not have one, you can request an [evaluation license](https://www.gurobi.com/downloads/request-an-evaluation-license/?utm_source=3PW&utm_medium=OT&utm_campaign=WW-MU-MUI-OR-O_LEA-PR_NO-Q3_FY20_WW_JPME_Lost_Luggage_Distribution_COM_EVAL_GitHub&utm_term=Lost%20Luggage%20Distribution&utm_content=C_JPM) as a *commercial user*, or download a [free license](https://www.gurobi.com/academia/academic-program-and-licenses/?utm_source=3PW&utm_medium=OT&utm_campaign=WW-MU-EDU-OR-O_LEA-PR_NO-Q3_FY20_WW_JPME_Lost_Luggage_Distribution_COM_EVAL_GitHub&utm_term=Lost%20Luggage%20Distribution&utm_content=C_JPM) as an *academic user*."
   ]
  },
  {
   "cell_type": "markdown",
   "metadata": {},
   "source": [
    "## Problem Description\n",
    "\n",
    "A small company with six vans has a contract with a number of airlines to pick up lost or delayed baggage, belonging to customers in the London area, from Heathrow airport at 6 p.m. each evening. The contract stipulates that each customer must have their baggage delivered by 8 p.m. The company requires a model to advise them what is the minimum number of vans they need to use and to which customers each van should deliver and in what order. There is no practical capacity limitation on each van. Each van can hold all baggage that needs to be delivered in a two-hour period. To solve this problem, we can formulate an optimization model that minimizes the number of vans that need to be used.\n",
    "\n"
   ]
  },
  {
   "cell_type": "markdown",
   "metadata": {},
   "source": [
    "##  Model Formulation\n",
    "\n",
    "\n",
    "### Sets and Indices\n",
    "\n",
    "$i,j \\in \\text{Locations} \\equiv L=\\{0,1..(n-1)\\}$: Set of locations where $0$ is the index for the single depot -Heawthrow airport, and $n$ is the number of locations.\n",
    "\n",
    "$k \\in \\text{Vans} \\equiv  V=\\{0..K-1\\}$: Index and set of vans, where $K$ is the number of vans.\n",
    "\n",
    "$S_k \\in S  $: Tour of van $k$, i.e. subset of locations visited by the van.\n",
    "\n",
    "### Parameters\n",
    "\n",
    "$t_{i,j} \\in \\mathbb{R}^+$: Travel time from location $i$  to location $j$.\n",
    "\n",
    "### Decision Variables\n",
    "\n",
    "$x_{i,j,k} \\in \\{0,1 \\}$: This binary variable is equal 1, if van $k$ visits and goes directly from location $i$ to location $j$, and zero otherwise.\n",
    "\n",
    "$y_{i,k} \\in \\{0,1 \\}$: This binary variable is equal 1, if van $k$ visits location $i$, and zero otherwise.\n",
    "\n",
    "$z_{k} \\in \\{0,1 \\}$: This binary variable is equal 1, if van $k \\in \\{1,2..K\\}$ is used, and zero otherwise.\n",
    "\n",
    "### Objective Function\n",
    "\n",
    "**Number of vans**: Minimize number of vans used.\n",
    "\n",
    "\\begin{equation}\n",
    "\\text{Minimize} \\quad \\sum_{k = 1}^{K} z_k\n",
    "\\end{equation}\n",
    "\n",
    "### Constraints\n",
    "\n",
    "**Van utilization**: For all locations different from the depot, i.e. $i > 0$, if the location is visited by van $k$, then it is used.\n",
    "\n",
    "\\begin{equation}\n",
    "y_{i,k} \\leq z_{k} \\quad \\forall i \\in L \\setminus \\{0\\}, \\; k \\in V\n",
    "\\end{equation}\n",
    "\n",
    "**Travel time**: No van travels for more than 120 min. Observe that the travel time to return to the depot is not considered.\n",
    "\n",
    "\\begin{equation}\n",
    "\\sum_{i \\in L} \\sum_{j \\in L \\setminus \\{0\\}} t_{i,j}*x_{i,j,k} \\leq 120*z_k \\quad \\forall k \\in  V\n",
    "\\end{equation}\n",
    "\n",
    "**Visit all customers**:  Each customer location is visited by exactly one van.\n",
    "\n",
    "\\begin{equation}\n",
    "\\sum_{k \\in V}  y_{i,k} = 1 \\quad \\forall i \\in L \\setminus \\{0\\}\n",
    "\\end{equation}\n",
    "\n",
    "**Depot**: Heathrow is visited by every van used. \n",
    "\n",
    "\\begin{equation}\n",
    "\\sum_{k \\in V}  y_{1,k} \\geq \\sum_{k \\in V} z_k\n",
    "\\end{equation}\n",
    "\n",
    "**Arriving at a location**: If location $j$ is visited by van $k$, then the van is coming from another location $i$.\n",
    "\n",
    "\\begin{equation}\n",
    "\\sum_{i \\in L}  x_{i,j,k} =  y_{j,k}  \\quad \\forall j \\in L, \\; k \\in V\n",
    "\\end{equation}\n",
    "\n",
    "**Leaving a location**: If van $k$ leaves location $j$, then the van is going to another location $i$.\n",
    "\n",
    "\\begin{equation}\n",
    "\\sum_{i \\in L}  x_{j,i,k} = y_{j,k}  \\quad \\forall j \\in L, \\; k \\in V\n",
    "\\end{equation}\n",
    "\n",
    "**Breaking symmetry**: \n",
    "\n",
    "\\begin{equation}\n",
    "\\sum_{i \\in L}  y_{i,k} \\geq \\sum_{i \\in L}  y_{i,k+1} \\quad \\forall k \\in  \\{0..K-1\\}\n",
    "\\end{equation}\n",
    "\n",
    "**Subtour elimination**: These constraints ensure that for each van route, there is no cycle. \n",
    "\n",
    "\\begin{equation}\n",
    "\\sum_{(i,j) \\in S_k}x_{i,j,k} \\leq |S_k|-1 \\quad \\forall  k \\in K, \\;   S_k \\subseteq L\n",
    "\\end{equation}\n",
    "\n"
   ]
  },
  {
   "cell_type": "markdown",
   "metadata": {},
   "source": [
    "## Python Implementation\n",
    "\n",
    "We import the Gurobi Python Module and other Python libraries."
   ]
  },
  {
   "cell_type": "code",
   "execution_count": 1,
   "metadata": {},
   "outputs": [],
   "source": [
    "import sys\n",
    "import math\n",
    "import random\n",
    "from itertools import permutations\n",
    "import gurobipy as gp\n",
    "from gurobipy import GRB\n",
    "\n",
    "# tested with Python 3.7.0 & Gurobi 9.1.0"
   ]
  },
  {
   "cell_type": "markdown",
   "metadata": {},
   "source": [
    "### Callback Definition\n",
    "The following function determines lazy constraints to eliminate sub-tours."
   ]
  },
  {
   "cell_type": "code",
   "execution_count": 2,
   "metadata": {},
   "outputs": [],
   "source": [
    "# Callback - use lazy constraints to eliminate sub-tours\n",
    "def subtourelim(model, where):\n",
    "    if where == GRB.Callback.MIPSOL:\n",
    "        # make a list of edges selected in the solution\n",
    "        vals = model.cbGetSolution(model._x)\n",
    "        for k in vans:\n",
    "            for i,j in time.keys():\n",
    "                if vals[i, j, k] > 0.5:\n",
    "                    selected = gp.tuplelist((i, j) for i, j, k in model._x.keys()\n",
    "                                if vals[i, j, k] > 0.5)\n",
    "        # find the shortest cycle in the selected edge list\n",
    "        tour = subtour(selected)\n",
    "        if len(tour) < n: \n",
    "            for k in vans:\n",
    "                model.cbLazy(gp.quicksum(model._x[i, j, k]\n",
    "                                         for i, j in permutations(tour, 2))\n",
    "                             <= len(tour)-1)\n",
    "\n",
    "\n",
    "# Given a tuplelist of edges, find the shortest subtour not containing depot\n",
    "def subtour(edges):\n",
    "    unvisited = list(range(1, n))\n",
    "    cycle = range(n+1)  # initial length has 1 more city\n",
    "    # First, remove all nodes connected to depot\n",
    "    depot_connected = [j for i, j in edges.select(0, '*')]\n",
    "    while depot_connected:\n",
    "        current = depot_connected.pop()\n",
    "        unvisited.remove(current)\n",
    "        neighbors = [j for i, j in edges.select(current, '*')\n",
    "                     if j in unvisited and j != 0]\n",
    "        depot_connected += neighbors\n",
    "\n",
    "    # Now, find subtour using tsp.py code\n",
    "    while unvisited:\n",
    "        thiscycle = []\n",
    "        neighbors = unvisited\n",
    "        while neighbors:\n",
    "            current = neighbors[0]\n",
    "            thiscycle.append(current)\n",
    "            unvisited.remove(current)\n",
    "            neighbors = [j for i, j in edges.select(current, '*')\n",
    "                         if j in unvisited]\n",
    "        if len(cycle) > len(thiscycle):\n",
    "            cycle = thiscycle\n",
    "    return cycle"
   ]
  },
  {
   "cell_type": "markdown",
   "metadata": {},
   "source": [
    "## Input data  \n",
    "We define all the input data for the model. The user defines the number of locations, including the depot, and the number of vans. We randomly determine the coordinates of each location and then calculate the Euclidean distance between each pair of locations. We assume a speed of 60 km/hr, which is 1 km/min. Hence travel time is equal to the distance."
   ]
  },
  {
   "cell_type": "code",
   "execution_count": 3,
   "metadata": {},
   "outputs": [],
   "source": [
    "# number of locations, including the depot. The index of the depot is 0\n",
    "n = 17\n",
    "locations = [*range(n)]\n",
    "\n",
    "# number of vans\n",
    "K = 6\n",
    "vans = [*range(K)]\n",
    "\n",
    "# Create n random points\n",
    "# Depot is located at (0,0) coordinates\n",
    "random.seed(1)\n",
    "points = [(0, 0)]\n",
    "points += [(random.randint(0, 50), random.randint(0, 50)) for i in range(n-1)]\n",
    "\n",
    "# Dictionary of Euclidean distance between each pair of points\n",
    "# Assume a speed of 60 km/hr, which is 1 km/min. Hence travel time = distance\n",
    "time = {(i, j):\n",
    "        math.sqrt(sum((points[i][k]-points[j][k])**2 for k in range(2)))\n",
    "        for i in range(n) for j in range(n) if i != j}\n",
    "\n",
    "# Preprocessing\n",
    "l_ijk = []\n",
    "for i,j in time.keys():\n",
    "    for k in range(K):\n",
    "        tp = i,j,k\n",
    "        l_ijk.append(tp)\n",
    "        \n",
    "ijk = gp.tuplelist(l_ijk)\n",
    "#print(ijk)\n",
    "\n",
    "l_ik = []\n",
    "for i in locations:\n",
    "    for k in vans:\n",
    "        tp = i,k\n",
    "        l_ik.append(tp)\n",
    "        \n",
    "ik = gp.tuplelist(l_ik)\n",
    "#print(ik)"
   ]
  },
  {
   "cell_type": "markdown",
   "metadata": {},
   "source": [
    "## Model Deployment\n",
    "\n",
    "We create a model and the variables. The decision variables determines the order in which each van visits a subset of custormers, which customer is visited by each van, and if a van is used or not."
   ]
  },
  {
   "cell_type": "code",
   "execution_count": 4,
   "metadata": {},
   "outputs": [
    {
     "name": "stdout",
     "output_type": "stream",
     "text": [
      "Using license file c:\\gurobi\\gurobi.lic\n"
     ]
    }
   ],
   "source": [
    "m = gp.Model('lost_luggage_distribution.lp')\n",
    "\n",
    "# Create variables: \n",
    "\n",
    "# x =1, if van  k  visits and goes directly from location  i  to location  j \n",
    "x = m.addVars(ijk, vtype=GRB.BINARY, name='FromToBy')\n",
    "\n",
    "# y = 1, if customer i is visited by van k\n",
    "y = m.addVars(ik, vtype=GRB.BINARY, name='visitBy')\n",
    "\n",
    "# Number of vans used is a decision variable\n",
    "z = m.addVars(vans, vtype=GRB.BINARY, name='used')"
   ]
  },
  {
   "cell_type": "markdown",
   "metadata": {},
   "source": [
    "## Constraints\n",
    "\n",
    "For all locations different from depot, i.e. $i > 0$, if the location is visited by van $k$, then it is used."
   ]
  },
  {
   "cell_type": "code",
   "execution_count": 5,
   "metadata": {},
   "outputs": [],
   "source": [
    "# Van utilization constraint\n",
    "\n",
    "visitCustomer = m.addConstrs((y[i,k] <= z[k]  for k in vans for i in locations if i > 0), name='visitCustomer' )"
   ]
  },
  {
   "cell_type": "markdown",
   "metadata": {},
   "source": [
    "No van travels for more than 120 min."
   ]
  },
  {
   "cell_type": "code",
   "execution_count": 6,
   "metadata": {},
   "outputs": [],
   "source": [
    "# Travel time constraint\n",
    "# Exclude the time to return to the depot\n",
    "\n",
    "travelTime = m.addConstrs((gp.quicksum(time[i,j]*x[i,j,k] for i,j in time.keys() if j > 0) <= 120*z[k] for k in vans), \n",
    "                          name='travelTime' )"
   ]
  },
  {
   "cell_type": "markdown",
   "metadata": {},
   "source": [
    "Each customer location is visited by exactly one van"
   ]
  },
  {
   "cell_type": "code",
   "execution_count": 7,
   "metadata": {},
   "outputs": [],
   "source": [
    "# Visit all customers\n",
    "visitAll = m.addConstrs((gp.quicksum(y[i,k] for k in vans ) == 1 for i in locations if i > 0), \n",
    "                          name='visitAll' )"
   ]
  },
  {
   "cell_type": "markdown",
   "metadata": {},
   "source": [
    "Heathrow (depot) is visited by every van used."
   ]
  },
  {
   "cell_type": "code",
   "execution_count": 8,
   "metadata": {},
   "outputs": [],
   "source": [
    "# Depot constraint\n",
    "depotConstr = m.addConstr((gp.quicksum(y[0,k] for k in vans ) >= z.sum() ), name='depotConstr' )"
   ]
  },
  {
   "cell_type": "markdown",
   "metadata": {},
   "source": [
    "If location  j  is visited by van  k , then the van is coming from another location  i."
   ]
  },
  {
   "cell_type": "code",
   "execution_count": 9,
   "metadata": {},
   "outputs": [],
   "source": [
    "# Arriving at a customer location constraint\n",
    "ArriveConstr = m.addConstrs((gp.quicksum(x[i,j,k] for i,jj,kk in ijk if (jj == j and kk == k) ) \n",
    "                             == y[j,k] for j,k in ik  ), name='ArriveConstr' )"
   ]
  },
  {
   "cell_type": "markdown",
   "metadata": {},
   "source": [
    " If van  k  leaves location  j , then the van is going to another location  i."
   ]
  },
  {
   "cell_type": "code",
   "execution_count": 10,
   "metadata": {},
   "outputs": [],
   "source": [
    "# Leaving a customer location constraint\n",
    "LeaveConstr = m.addConstrs((gp.quicksum(x[j,i,k] for jj,i,kk in ijk if (jj == j and kk == k) ) \n",
    "                             == y[j,k] for j,k in ik  ), name='LeaveConstr' )"
   ]
  },
  {
   "cell_type": "markdown",
   "metadata": {},
   "source": [
    "Breaking symmetry constraints."
   ]
  },
  {
   "cell_type": "code",
   "execution_count": 11,
   "metadata": {},
   "outputs": [],
   "source": [
    "breakSymm = m.addConstrs((gp.quicksum(y[i,k] for i in locations ) >= \n",
    "                          gp.quicksum(y[i,k+1] for i in locations  ) for k in range(K-1) ), name='breakSymm' )"
   ]
  },
  {
   "cell_type": "markdown",
   "metadata": {},
   "source": [
    "### Objective Function\n",
    "Minimize number of vans used."
   ]
  },
  {
   "cell_type": "code",
   "execution_count": 12,
   "metadata": {},
   "outputs": [],
   "source": [
    "m.setObjective((z.sum() ), GRB.MINIMIZE)"
   ]
  },
  {
   "cell_type": "code",
   "execution_count": 13,
   "metadata": {},
   "outputs": [
    {
     "name": "stdout",
     "output_type": "stream",
     "text": [
      "Changed value of parameter LazyConstraints to 1\n",
      "   Prev: 0  Min: 0  Max: 1  Default: 0\n",
      "Gurobi Optimizer version 9.1.0 build v9.1.0rc0 (win64)\n",
      "Thread count: 4 physical cores, 8 logical processors, using up to 8 threads\n",
      "Optimize a model with 328 rows, 1740 columns and 5480 nonzeros\n",
      "Model fingerprint: 0xe25b160d\n",
      "Variable types: 0 continuous, 1740 integer (1740 binary)\n",
      "Coefficient statistics:\n",
      "  Matrix range     [1e+00, 1e+02]\n",
      "  Objective range  [1e+00, 1e+00]\n",
      "  Bounds range     [1e+00, 1e+00]\n",
      "  RHS range        [1e+00, 1e+00]\n",
      "Presolve time: 0.02s\n",
      "Presolved: 328 rows, 1740 columns, 5480 nonzeros\n",
      "Variable types: 0 continuous, 1740 integer (1740 binary)\n",
      "\n",
      "Root relaxation: objective 1.492625e+00, 908 iterations, 0.04 seconds\n",
      "\n",
      "    Nodes    |    Current Node    |     Objective Bounds      |     Work\n",
      " Expl Unexpl |  Obj  Depth IntInf | Incumbent    BestBd   Gap | It/Node Time\n",
      "\n",
      "     0     0    1.49263    0   54          -    1.49263      -     -    0s\n",
      "     0     0    1.55594    0  181          -    1.55594      -     -    0s\n",
      "     0     0    2.00000    0  173          -    2.00000      -     -    0s\n",
      "     0     0    2.00000    0  194          -    2.00000      -     -    0s\n",
      "     0     0    2.00000    0  190          -    2.00000      -     -    0s\n",
      "     0     0    2.00000    0   14          -    2.00000      -     -    0s\n",
      "     0     2    2.00000    0    8          -    2.00000      -     -    0s\n",
      "*  502   284              20       3.0000000    2.00000  33.3%  37.8    1s\n",
      "*  942   212              18       2.0000000    2.00000  0.00%  49.3    2s\n",
      "\n",
      "Cutting planes:\n",
      "  Gomory: 1\n",
      "  Cover: 2\n",
      "  Clique: 6\n",
      "  RLT: 1\n",
      "  Lazy constraints: 228\n",
      "\n",
      "Explored 1043 nodes (58761 simplex iterations) in 2.06 seconds\n",
      "Thread count was 8 (of 8 available processors)\n",
      "\n",
      "Solution count 2: 2 3 \n",
      "\n",
      "Optimal solution found (tolerance 1.00e-04)\n",
      "Best objective 2.000000000000e+00, best bound 2.000000000000e+00, gap 0.0000%\n",
      "\n",
      "User-callback calls 2408, time in user-callback 0.37 sec\n"
     ]
    }
   ],
   "source": [
    "# Verify model formulation\n",
    "\n",
    "m.write('lost_luggage_distribution.lp')\n",
    "\n",
    "# Run optimization engine`\n",
    "m._x = x\n",
    "m.Params.LazyConstraints = 1\n",
    "m.optimize(subtourelim)"
   ]
  },
  {
   "cell_type": "markdown",
   "metadata": {},
   "source": [
    "## Analysis\n",
    "\n",
    "The optimal route of each van used and the total lost luggage delivery time report follows."
   ]
  },
  {
   "cell_type": "code",
   "execution_count": 14,
   "metadata": {
    "scrolled": true
   },
   "outputs": [
    {
     "name": "stdout",
     "output_type": "stream",
     "text": [
      "Route for van 0: 0 -> 9 -> 8 -> 12 -> 1 -> 5 -> 6 -> 14 -> 7 -> 2 -> 0. Travel time: 117.98 min\n",
      "Route for van 1: 0 -> 3 -> 16 -> 15 -> 13 -> 10 -> 11 -> 4 -> 0. Travel time: 118.37 min\n"
     ]
    }
   ],
   "source": [
    "# Print optimal routes\n",
    "vals = m.getAttr('X', x)\n",
    "\n",
    "# Travel to depot is zero\n",
    "ttime = {}\n",
    "for i,j in time.keys():\n",
    "    ttime[i,j] = time[i,j]\n",
    "    if j == 0:\n",
    "        ttime[i,j] = 0\n",
    "\n",
    "for k in vans:\n",
    "    selected = gp.tuplelist((i, j) for i, j, kk in vals.keys() if (kk == k and vals[i, j, kk] > 0.5) )\n",
    "    for i, tup in enumerate(selected.select(0, '*')):\n",
    "        travelTime = 0\n",
    "        print(f\"Route for van {k}: 0\", end='')\n",
    "        travelTime += ttime[tup[0],tup[1]]\n",
    "        neighbor = tup[1]\n",
    "        while neighbor:\n",
    "            print(f\" -> {neighbor}\", end='')\n",
    "            current = neighbor\n",
    "            neighbor = selected.select(neighbor, '*')[0][1]\n",
    "            travelTime += ttime[current,neighbor]\n",
    "        print(f\" -> 0. Travel time: {round(travelTime,2)} min\")"
   ]
  },
  {
   "cell_type": "markdown",
   "metadata": {},
   "source": [
    "## References\n",
    "\n",
    "H. Paul Williams, Model Building in Mathematical Programming, fifth edition.\n",
    "\n",
    "Copyright © 2020 Gurobi Optimization, LLC"
   ]
  },
  {
   "cell_type": "code",
   "execution_count": null,
   "metadata": {},
   "outputs": [],
   "source": []
  }
 ],
 "metadata": {
  "kernelspec": {
   "display_name": "Python 3",
   "language": "python",
   "name": "python3"
  },
  "language_info": {
   "codemirror_mode": {
    "name": "ipython",
    "version": 3
   },
   "file_extension": ".py",
   "mimetype": "text/x-python",
   "name": "python",
   "nbconvert_exporter": "python",
   "pygments_lexer": "ipython3",
   "version": "3.7.1"
  }
 },
 "nbformat": 4,
 "nbformat_minor": 2
}
